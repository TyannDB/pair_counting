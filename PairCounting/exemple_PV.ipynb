{
 "cells": [
  {
   "cell_type": "code",
   "execution_count": 1,
   "metadata": {},
   "outputs": [],
   "source": [
    "import numpy as np\n",
    "import numba as nb\n",
    "import twopoint_counter as tpc\n",
    "from matplotlib import pyplot as plt\n",
    "from numba import njit, prange\n",
    "import math"
   ]
  },
  {
   "cell_type": "code",
   "execution_count": null,
   "metadata": {},
   "outputs": [],
   "source": []
  },
  {
   "cell_type": "code",
   "execution_count": 2,
   "metadata": {},
   "outputs": [],
   "source": [
    "from scipy.interpolate import interp1d\n",
    "\n",
    "def get_nbar(z, zbins, cosmo, fsky=1):\n",
    "\n",
    "    \n",
    "    rbins = cosmo.comoving_distance(zbins) * cosmo.h\n",
    "    vol_shell = fsky * 4*np.pi/3 * (rbins[1:]**3-rbins[:-1]**3)\n",
    "    counts, _ = np.histogram(z, bins=zbins)\n",
    "    density = counts/vol_shell\n",
    "    \n",
    "    nbar = {'zbins': zbins, 'rbins': rbins, 'vol_shell': vol_shell, 'counts': counts, 'density': density, 'fsky': fsky}\n",
    "    return nbar\n",
    "\n",
    "def assign_nbar(z, zbins, density): \n",
    "    dens = interp1d(zbins[:-1], density, kind='zero', fill_value='extrapolate')\n",
    "    return dens(z)"
   ]
  },
  {
   "cell_type": "code",
   "execution_count": 2,
   "metadata": {},
   "outputs": [],
   "source": [
    "### PV catalog\n",
    "NPv = int(100000)\n",
    "z = np.random.rand(NPv)*0.10\n",
    "pos = np.random.random((NPv,3)) * 2000 -1000\n",
    "v = np.random.randn(NPv)*400\n",
    "\n",
    "dat_vpos = pos[np.random.choice(range(pos.shape[0]), size=100, replace=False)]\n",
    "ran_vpos = pos[np.random.choice(range(pos.shape[0]), size=500, replace=False)]\n",
    "\n",
    "dat_v = np.random.choice(v,100)\n",
    "ran_v = np.random.choice(v,500)\n",
    "\n",
    "dat_vn = np.ones(100)*1e-5\n",
    "ran_vn = np.ones(500)*1e-5\n",
    "\n",
    "dat_alpha = np.ones(100)\n",
    "ran_alpha = np.ones(500)\n",
    "dat_vsig = np.zeros(100)\n",
    "ran_vsig = np.zeros(500)\n",
    "dat_vamp = ran_vamp = 100000"
   ]
  },
  {
   "cell_type": "code",
   "execution_count": 3,
   "metadata": {},
   "outputs": [],
   "source": [
    "### Den catalog\n",
    "Ngal = int(100000)\n",
    "pos = np.random.random((Ngal,3)) * 2000 -1000\n",
    "\n",
    "dat_dpos = pos[np.random.choice(range(pos.shape[0]), size=10000, replace=False)]\n",
    "ran_dpos = pos[np.random.choice(range(pos.shape[0]), size=50000, replace=False)]\n",
    "\n",
    "dat_dn = np.ones(10000)*1e-5\n",
    "ran_dn = np.ones(10000)*1e-5\n",
    "dat_damp = ran_damp = 100000"
   ]
  },
  {
   "cell_type": "code",
   "execution_count": 3,
   "metadata": {},
   "outputs": [],
   "source": [
    "s_edges=np.linspace(10,120,20)\n",
    "bins_s = (np.array(s_edges[1:]) + np.array(s_edges[:-1])) / 2\n",
    "mu_edges = np.linspace(-1,1,100)\n",
    "bins_mu = (np.array(mu_edges[1:]) + np.array(mu_edges[:-1])) / 2\n",
    "edges = (s_edges,mu_edges)"
   ]
  },
  {
   "cell_type": "code",
   "execution_count": 13,
   "metadata": {},
   "outputs": [],
   "source": [
    "engine = tpc.CorrelationFunctionPV(s_edges,\n",
    "                                   ran_vpos,ran_vn,ran_v,ran_vsig,ran_alpha,ran_vamp,\n",
    "                                   ran_vpos,ran_vn,ran_v,ran_vsig,ran_alpha,ran_vamp\n",
    "                                   )\n"
   ]
  },
  {
   "cell_type": "code",
   "execution_count": 15,
   "metadata": {},
   "outputs": [
    {
     "ename": "IndexError",
     "evalue": "index 1 is out of bounds for axis 0 with size 1",
     "output_type": "error",
     "traceback": [
      "\u001b[0;31m---------------------------------------------------------------------------\u001b[0m",
      "\u001b[0;31mIndexError\u001b[0m                                Traceback (most recent call last)",
      "Cell \u001b[0;32mIn[15], line 1\u001b[0m\n\u001b[0;32m----> 1\u001b[0m engine\u001b[39m.\u001b[39;49mRR(mode\u001b[39m=\u001b[39;49m\u001b[39m'\u001b[39;49m\u001b[39mpsi1\u001b[39;49m\u001b[39m'\u001b[39;49m)\n",
      "File \u001b[0;32m~/SNIa/pair_counting/PairCounting/twopoint_counter.py:831\u001b[0m, in \u001b[0;36mCorrelationFunctionPV.RR\u001b[0;34m(self, mode)\u001b[0m\n\u001b[1;32m    828\u001b[0m \u001b[39mself\u001b[39m\u001b[39m.\u001b[39mmode \u001b[39m=\u001b[39m mode\n\u001b[1;32m    830\u001b[0m \u001b[39mif\u001b[39;00m mode\u001b[39m==\u001b[39m\u001b[39m'\u001b[39m\u001b[39mpsi1\u001b[39m\u001b[39m'\u001b[39m:\n\u001b[0;32m--> 831\u001b[0m      num,den,sum_w \u001b[39m=\u001b[39m psi1_counter(\u001b[39mself\u001b[39;49m\u001b[39m.\u001b[39;49mran_pos,\u001b[39mself\u001b[39;49m\u001b[39m.\u001b[39;49mran_n,\u001b[39mself\u001b[39;49m\u001b[39m.\u001b[39;49mran_v,\u001b[39mself\u001b[39;49m\u001b[39m.\u001b[39;49mran_vsig,\u001b[39mself\u001b[39;49m\u001b[39m.\u001b[39;49mran_alpha,\u001b[39mself\u001b[39;49m\u001b[39m.\u001b[39;49mran_vamp,\n\u001b[1;32m    832\u001b[0m                   \u001b[39mself\u001b[39;49m\u001b[39m.\u001b[39;49medges,\u001b[39mself\u001b[39;49m\u001b[39m.\u001b[39;49mn_cells,\u001b[39mself\u001b[39;49m\u001b[39m.\u001b[39;49mindices_cells_ran,\u001b[39mself\u001b[39;49m\u001b[39m.\u001b[39;49mL_cell_pair,\u001b[39mself\u001b[39;49m\u001b[39m.\u001b[39;49mL_cells)\n\u001b[1;32m    833\u001b[0m \u001b[39mif\u001b[39;00m mode \u001b[39m==\u001b[39m\u001b[39m'\u001b[39m\u001b[39mpsi2\u001b[39m\u001b[39m'\u001b[39m:\n\u001b[1;32m    834\u001b[0m      num,den,sum_w \u001b[39m=\u001b[39m psi2_counter(\u001b[39mself\u001b[39m\u001b[39m.\u001b[39mran_pos,\u001b[39mself\u001b[39m\u001b[39m.\u001b[39mran_n,\u001b[39mself\u001b[39m\u001b[39m.\u001b[39mran_v,\u001b[39mself\u001b[39m\u001b[39m.\u001b[39mran_vsig,\u001b[39mself\u001b[39m\u001b[39m.\u001b[39mran_alpha,\u001b[39mself\u001b[39m\u001b[39m.\u001b[39mran_vamp,\n\u001b[1;32m    835\u001b[0m                   \u001b[39mself\u001b[39m\u001b[39m.\u001b[39medges,\u001b[39mself\u001b[39m\u001b[39m.\u001b[39mn_cells,\u001b[39mself\u001b[39m\u001b[39m.\u001b[39mindices_cells_ran,\u001b[39mself\u001b[39m\u001b[39m.\u001b[39mL_cell_pair,\u001b[39mself\u001b[39m\u001b[39m.\u001b[39mL_cells)\n",
      "File \u001b[0;32m~/SNIa/pair_counting/PairCounting/twopoint_counter.py:680\u001b[0m, in \u001b[0;36mpsi1_counter\u001b[0;34m(X, nbar, v, v_sig, alpha, v_amp, bins_s, n_cells, indices_cells, L_cell_pair, L_cells)\u001b[0m\n\u001b[1;32m    677\u001b[0m w1 \u001b[39m=\u001b[39m (indices_cells_flat\u001b[39m==\u001b[39mL_cell_pair_flat_1[i_pair])\n\u001b[1;32m    678\u001b[0m w2 \u001b[39m=\u001b[39m (indices_cells_flat\u001b[39m==\u001b[39mL_cell_pair_flat_2[i_pair])\n\u001b[0;32m--> 680\u001b[0m count \u001b[39m=\u001b[39m psi1_cross(X[w1],X[w2],nbar[w1],nbar[w2],v[w1],v[w2],v_sig[w1],v_sig[w2],alpha[w1],alpha[w2],v_amp,v_amp,bin_s_min,bin_s_max,n_s_bin)        \n\u001b[1;32m    681\u001b[0m num \u001b[39m+\u001b[39m\u001b[39m=\u001b[39m count[\u001b[39m0\u001b[39m]\n\u001b[1;32m    682\u001b[0m den \u001b[39m+\u001b[39m\u001b[39m=\u001b[39m count[\u001b[39m1\u001b[39m]\n",
      "File \u001b[0;32m~/SNIa/pair_counting/PairCounting/twopoint_counter.py:475\u001b[0m, in \u001b[0;36mpsi1_cross\u001b[0;34m(X1, X2, nbar1, nbar2, v1, v2, v1_sig, v2_sig, alpha1, alpha2, v1_amp, v2_amp, bin_s_min, bin_s_max, n_s_bin)\u001b[0m\n\u001b[1;32m    473\u001b[0m cosA  \u001b[39m=\u001b[39m (X1[i][\u001b[39m0\u001b[39m]\u001b[39m/\u001b[39mnorm_ri \u001b[39m*\u001b[39m deltax\u001b[39m/\u001b[39mnorm_r)   \u001b[39m+\u001b[39m (X1[i][\u001b[39m1\u001b[39m]\u001b[39m/\u001b[39mnorm_ri \u001b[39m*\u001b[39m deltay\u001b[39m/\u001b[39mnorm_r)   \u001b[39m+\u001b[39m (X1[i][\u001b[39m2\u001b[39m]\u001b[39m/\u001b[39mnorm_ri \u001b[39m*\u001b[39m deltaz\u001b[39m/\u001b[39mnorm_r)\n\u001b[1;32m    474\u001b[0m cosB  \u001b[39m=\u001b[39m (X2[j][\u001b[39m0\u001b[39m]\u001b[39m/\u001b[39mnorm_rj \u001b[39m*\u001b[39m deltax\u001b[39m/\u001b[39mnorm_r)   \u001b[39m+\u001b[39m (X2[j][\u001b[39m1\u001b[39m]\u001b[39m/\u001b[39mnorm_rj \u001b[39m*\u001b[39m deltay\u001b[39m/\u001b[39mnorm_r)   \u001b[39m+\u001b[39m (X2[j][\u001b[39m2\u001b[39m]\u001b[39m/\u001b[39mnorm_rj \u001b[39m*\u001b[39m deltaz\u001b[39m/\u001b[39mnorm_r)\n\u001b[0;32m--> 475\u001b[0m cosAB \u001b[39m=\u001b[39m (X1[i][\u001b[39m0\u001b[39m]\u001b[39m/\u001b[39mnorm_ri \u001b[39m*\u001b[39m X2[j][\u001b[39m0\u001b[39m]\u001b[39m/\u001b[39mnorm_rj) \u001b[39m+\u001b[39m (X1[i][\u001b[39m1\u001b[39m]\u001b[39m/\u001b[39mnorm_ri \u001b[39m*\u001b[39m X1[j][\u001b[39m1\u001b[39m]\u001b[39m/\u001b[39mnorm_rj) \u001b[39m+\u001b[39m (X1[i][\u001b[39m2\u001b[39m]\u001b[39m/\u001b[39mnorm_ri \u001b[39m*\u001b[39m X2[j][\u001b[39m2\u001b[39m]\u001b[39m/\u001b[39mnorm_rj)\n\u001b[1;32m    476\u001b[0m \u001b[39m#weight\u001b[39;00m\n\u001b[1;32m    477\u001b[0m w_i \u001b[39m=\u001b[39m \u001b[39m1\u001b[39m \u001b[39m/\u001b[39m (alpha1[i]\u001b[39m*\u001b[39mv1_amp\u001b[39m*\u001b[39mnbar1[i] \u001b[39m+\u001b[39m v1_sig[i]\u001b[39m*\u001b[39m\u001b[39m*\u001b[39m\u001b[39m2\u001b[39m\u001b[39m/\u001b[39malpha1[i])\n",
      "\u001b[0;31mIndexError\u001b[0m: index 1 is out of bounds for axis 0 with size 1"
     ]
    }
   ],
   "source": [
    "engine.RR(mode='psi1')"
   ]
  },
  {
   "cell_type": "code",
   "execution_count": 37,
   "metadata": {},
   "outputs": [],
   "source": [
    "#@njit(parallel=False,cache=True)\n",
    "def psi1_auto(X,nbar,v,v_sig,alpha,v_amp,bin_s_min,bin_s_max,n_s_bin):\n",
    "    # return psi1_n,psi1_n,psi2_d,psi2_d\n",
    "\n",
    "    num = np.zeros((n_s_bin))\n",
    "    den = np.zeros((n_s_bin))\n",
    "    eta = v/alpha\n",
    "    sum_w = []\n",
    "    for i in prange(X.shape[0]):\n",
    "        sum_w +=  1 / (alpha[i]*v_amp*nbar[i] + v_sig[i]**2/alpha[i])\n",
    "        for j in prange(i+1,X.shape[0]):\n",
    "            \n",
    "            deltax = X[i][0] - X[j][0]\n",
    "            deltay = X[i][1] - X[j][1]\n",
    "            deltaz = X[i][2] - X[j][2]\n",
    "            #Norms of r, ra, rb vectors\n",
    "            norm_r = math.sqrt((deltax)**2 + (deltay)**2 + (deltaz)**2)\n",
    "            norm_ri = math.sqrt((X[i][0])**2 + (X[i][1])**2 + (X[i][2])**2)\n",
    "            norm_rj = math.sqrt((X[j][0])**2 + (X[j][1])**2 + (X[j][2])**2) \n",
    "            #Geometry calculations\n",
    "            cosAB = (X[i][0]/norm_ri * X[j][0]/norm_rj) + (X[i][1]/norm_ri * X[j][1]/norm_rj) + (X[i][2]/norm_ri * X[j][2]/norm_rj)\n",
    "            #weight\n",
    "            w_i = 1 / (alpha[i]*v_amp*nbar[i] + v_sig[i]**2/alpha[i])\n",
    "            w_j = 1 / (alpha[j]*v_amp*nbar[j] + v_sig[j]**2/alpha[j])\n",
    "\n",
    "            bin_s_index = (norm_r-bin_s_min)/(bin_s_max-bin_s_min)*n_s_bin\n",
    "            if n_s_bin>bin_s_index>=0 :\n",
    "                num[int(bin_s_index)] += w_i*w_j * cosAB * eta[i]*eta[j]\n",
    "                den[int(bin_s_index)] += w_i*w_j * cosAB** 2 \n",
    "\n",
    "    return num,den,sum_w\n",
    "def psi1_cross(X1,X2,nbar1,nbar2,v1,v2,v1_sig,v2_sig,alpha1,alpha2,v1_amp,v2_amp,bin_s_min,bin_s_max,n_s_bin):\n",
    "    # return psi1_n,psi1_n,psi2_d,psi2_d\n",
    "\n",
    "    num = np.zeros((n_s_bin))\n",
    "    den = np.zeros((n_s_bin))\n",
    "    eta1 = v1/alpha1\n",
    "    eta2 = v2/alpha2\n",
    "    sum_w = []\n",
    "    for i in prange(len(X1)):\n",
    "        sum_w +=  1 / (alpha1[i]*v1_amp*nbar1[i] + v1_sig[i]**2/alpha1[i])\n",
    "        for j in prange(len(X2)):\n",
    "            \n",
    "            deltax = X1[i][0] - X2[j][0]\n",
    "            deltay = X1[i][1] - X2[j][1]\n",
    "            deltaz = X1[i][2] - X2[j][2]\n",
    "            #Norms of r, ra, rb vectors\n",
    "            norm_r = math.sqrt((deltax)**2 + (deltay)**2 + (deltaz)**2)\n",
    "            norm_ri = math.sqrt((X1[i][0])**2 + (X1[i][1])**2 + (X1[i][2])**2)\n",
    "            norm_rj = math.sqrt((X2[j][0])**2 + (X2[j][1])**2 + (X2[j][2])**2) \n",
    "            #Geometry calculations\n",
    "            cosAB = (X1[i][0]/norm_ri * X2[j][0]/norm_rj) + (X1[i][1]/norm_ri * X1[j][1]/norm_rj) + (X1[i][2]/norm_ri * X2[j][2]/norm_rj)\n",
    "            #weight\n",
    "            w_i = 1 / (alpha1[i]*v1_amp*nbar1[i] + v1_sig[i]**2/alpha1[i])\n",
    "            w_j = 1 / (alpha2[j]*v2_amp*nbar2[j] + v2_sig[j]**2/alpha2[j])\n",
    "\n",
    "            bin_s_index = (norm_r-bin_s_min)/(bin_s_max-bin_s_min)*n_s_bin\n",
    "            if n_s_bin>bin_s_index>=0 :\n",
    "                num[int(bin_s_index)] += w_i*w_j * cosAB * eta1[i]*eta2[j]\n",
    "                den[int(bin_s_index)] += w_i*w_j * cosAB** 2 \n",
    "\n",
    "    return num,den,sum_w\n"
   ]
  },
  {
   "cell_type": "code",
   "execution_count": 30,
   "metadata": {},
   "outputs": [],
   "source": [
    "bin_s_min = s_edges[0]\n",
    "bin_s_max = s_edges[-1]\n",
    "n_s_bin = len(s_edges)-1"
   ]
  },
  {
   "cell_type": "code",
   "execution_count": 31,
   "metadata": {},
   "outputs": [],
   "source": [
    "count = psi1_auto(dat_vpos,dat_vn,dat_v,dat_vsig,dat_alpha,dat_vamp,bin_s_min,bin_s_max,n_s_bin)"
   ]
  },
  {
   "cell_type": "code",
   "execution_count": 38,
   "metadata": {},
   "outputs": [],
   "source": [
    "#@njit(parallel=True,cache=True)\n",
    "def psi1_counter(X,nbar,v,v_sig,alpha,v_amp,bins_s,n_cells,indices_cells,L_cell_pair,L_cells):\n",
    "    \"\"\"\n",
    "    Make sure numba has been initialized with the correct number \n",
    "    of threads : numba.set_num_threads(Nthread) \n",
    "    Note : dim of bins depends on the mode\n",
    "    \"\"\"\n",
    "\n",
    "    bin_s_min = bins_s[0]\n",
    "    bin_s_max = bins_s[-1]\n",
    "    n_s_bin = len(bins_s)-1\n",
    "\n",
    "    num = np.zeros((n_s_bin))\n",
    "    den = np.zeros((n_s_bin))\n",
    "    sum_w = []\n",
    "    #--Count pairs within the same cell:\n",
    "    indices_cells_flat = indices_cells[:,0]*(n_cells[1]*n_cells[2]) + indices_cells[:,1]*(n_cells[2]) +indices_cells[:,2]\n",
    "    \n",
    "    for i_cell in prange(L_cells.shape[0]):\n",
    "        w = (indices_cells_flat==i_cell)\n",
    "        count = psi1_auto(X[w],nbar[w],v[w],v_sig[w],alpha[w],v_amp,bin_s_min,bin_s_max,n_s_bin)\n",
    "        num += count[0]\n",
    "        den += count[1]\n",
    "        sum_w += count[2]\n",
    "    #--Count pairs between pair of cells       \n",
    "    L_cell_pair_flat_1 = L_cell_pair[:,0]*(n_cells[1]*n_cells[2]) + L_cell_pair[:,1]*(n_cells[2]) +L_cell_pair[:,2]      \n",
    "    L_cell_pair_flat_2 = L_cell_pair[:,3]*(n_cells[1]*n_cells[2]) + L_cell_pair[:,4]*(n_cells[2]) +L_cell_pair[:,5]      \n",
    "                             \n",
    "    for i_pair in prange(L_cell_pair.shape[0]):\n",
    "        #-- acces the positions in one cell-pair :\n",
    "        w1 = (indices_cells_flat==L_cell_pair_flat_1[i_pair])\n",
    "        w2 = (indices_cells_flat==L_cell_pair_flat_2[i_pair])\n",
    "\n",
    "        count = psi1_cross(X[w1],X[w2],nbar[w1],nbar[w2],v[w1],v[w2],v_sig[w1],v_sig[w2],alpha[w1],alpha[w2],v_amp,v_amp,bin_s_min,bin_s_max,n_s_bin)        \n",
    "        num += count[0]\n",
    "        den += count[1]\n",
    "        sum_w += count[2]\n",
    "        \n",
    "    return num,den,sum_w"
   ]
  },
  {
   "cell_type": "code",
   "execution_count": 39,
   "metadata": {},
   "outputs": [],
   "source": [
    "@njit(cache=True)\n",
    "def get_cell_pairs(n_cells):\n",
    "\n",
    "    #--building every possible cells:\n",
    "    L_cells=np.empty((n_cells[0]*n_cells[1]*n_cells[2],3))\n",
    "    i=0\n",
    "    for a in prange(n_cells[0]): \n",
    "        for b in range(n_cells[1]): \n",
    "            for c in range(n_cells[2]):\n",
    "                L_cells[i] = [a,b,c]\n",
    "                i+=1\n",
    "\n",
    "    L_cell_pair=[]\n",
    "    for i in prange(L_cells.shape[0]):\n",
    "        for j in range(i+1,L_cells.shape[0]):\n",
    "            dist = L_cells[i]-L_cells[j]\n",
    "            if -1<=dist[0]<=1 and -1<=dist[1]<=1 and -1<=dist[2]<=1:\n",
    "                L_cell_pair.append(list(L_cells[i])+list(L_cells[j]))\n",
    "    return np.array(L_cell_pair),L_cells"
   ]
  },
  {
   "cell_type": "code",
   "execution_count": 54,
   "metadata": {},
   "outputs": [],
   "source": [
    "n_cells = np.int64(np.floor((np.max(ran_vpos,axis=0)-np.min(ran_vpos,axis=0))/ s_edges[-1]))\n",
    "indices_cells_dat = np.int64(np.floor(n_cells * (dat_vpos-np.min(ran_dpos,axis=0))/(np.max(ran_vpos,axis=0)-np.min(ran_vpos,axis=0))))\n",
    "indices_cells_ran = np.int64(np.floor(n_cells * (ran_vpos-np.min(ran_dpos,axis=0))/(np.max(ran_vpos,axis=0)-np.min(ran_vpos,axis=0))))\n",
    "    \n",
    "L_cell_pair,L_cells = get_cell_pairs(n_cells)\n",
    "L_cells = np.int64(L_cells)\n",
    "L_cell_pair = np.int64(L_cell_pair)\n"
   ]
  },
  {
   "cell_type": "code",
   "execution_count": 55,
   "metadata": {},
   "outputs": [
    {
     "ename": "IndexError",
     "evalue": "index 1 is out of bounds for axis 0 with size 1",
     "output_type": "error",
     "traceback": [
      "\u001b[0;31m---------------------------------------------------------------------------\u001b[0m",
      "\u001b[0;31mIndexError\u001b[0m                                Traceback (most recent call last)",
      "Cell \u001b[0;32mIn[55], line 1\u001b[0m\n\u001b[0;32m----> 1\u001b[0m a \u001b[39m=\u001b[39m psi1_counter(ran_vpos,ran_vn,ran_v,ran_vsig,ran_alpha,ran_vamp,\n\u001b[1;32m      2\u001b[0m                              s_edges,n_cells,indices_cells_ran,L_cell_pair,L_cells)\n",
      "Cell \u001b[0;32mIn[38], line 34\u001b[0m, in \u001b[0;36mpsi1_counter\u001b[0;34m(X, nbar, v, v_sig, alpha, v_amp, bins_s, n_cells, indices_cells, L_cell_pair, L_cells)\u001b[0m\n\u001b[1;32m     31\u001b[0m w1 \u001b[39m=\u001b[39m (indices_cells_flat\u001b[39m==\u001b[39mL_cell_pair_flat_1[i_pair])\n\u001b[1;32m     32\u001b[0m w2 \u001b[39m=\u001b[39m (indices_cells_flat\u001b[39m==\u001b[39mL_cell_pair_flat_2[i_pair])\n\u001b[0;32m---> 34\u001b[0m count \u001b[39m=\u001b[39m psi1_cross(X[w1],X[w2],nbar[w1],nbar[w2],v[w1],v[w2],v_sig[w1],v_sig[w2],alpha[w1],alpha[w2],v_amp,v_amp,bin_s_min,bin_s_max,n_s_bin)        \n\u001b[1;32m     35\u001b[0m num \u001b[39m+\u001b[39m\u001b[39m=\u001b[39m count[\u001b[39m0\u001b[39m]\n\u001b[1;32m     36\u001b[0m den \u001b[39m+\u001b[39m\u001b[39m=\u001b[39m count[\u001b[39m1\u001b[39m]\n",
      "Cell \u001b[0;32mIn[37], line 52\u001b[0m, in \u001b[0;36mpsi1_cross\u001b[0;34m(X1, X2, nbar1, nbar2, v1, v2, v1_sig, v2_sig, alpha1, alpha2, v1_amp, v2_amp, bin_s_min, bin_s_max, n_s_bin)\u001b[0m\n\u001b[1;32m     50\u001b[0m norm_rj \u001b[39m=\u001b[39m math\u001b[39m.\u001b[39msqrt((X2[j][\u001b[39m0\u001b[39m])\u001b[39m*\u001b[39m\u001b[39m*\u001b[39m\u001b[39m2\u001b[39m \u001b[39m+\u001b[39m (X2[j][\u001b[39m1\u001b[39m])\u001b[39m*\u001b[39m\u001b[39m*\u001b[39m\u001b[39m2\u001b[39m \u001b[39m+\u001b[39m (X2[j][\u001b[39m2\u001b[39m])\u001b[39m*\u001b[39m\u001b[39m*\u001b[39m\u001b[39m2\u001b[39m) \n\u001b[1;32m     51\u001b[0m \u001b[39m#Geometry calculations\u001b[39;00m\n\u001b[0;32m---> 52\u001b[0m cosAB \u001b[39m=\u001b[39m (X1[i][\u001b[39m0\u001b[39m]\u001b[39m/\u001b[39mnorm_ri \u001b[39m*\u001b[39m X2[j][\u001b[39m0\u001b[39m]\u001b[39m/\u001b[39mnorm_rj) \u001b[39m+\u001b[39m (X1[i][\u001b[39m1\u001b[39m]\u001b[39m/\u001b[39mnorm_ri \u001b[39m*\u001b[39m X1[j][\u001b[39m1\u001b[39m]\u001b[39m/\u001b[39mnorm_rj) \u001b[39m+\u001b[39m (X1[i][\u001b[39m2\u001b[39m]\u001b[39m/\u001b[39mnorm_ri \u001b[39m*\u001b[39m X2[j][\u001b[39m2\u001b[39m]\u001b[39m/\u001b[39mnorm_rj)\n\u001b[1;32m     53\u001b[0m \u001b[39m#weight\u001b[39;00m\n\u001b[1;32m     54\u001b[0m w_i \u001b[39m=\u001b[39m \u001b[39m1\u001b[39m \u001b[39m/\u001b[39m (alpha1[i]\u001b[39m*\u001b[39mv1_amp\u001b[39m*\u001b[39mnbar1[i] \u001b[39m+\u001b[39m v1_sig[i]\u001b[39m*\u001b[39m\u001b[39m*\u001b[39m\u001b[39m2\u001b[39m\u001b[39m/\u001b[39malpha1[i])\n",
      "\u001b[0;31mIndexError\u001b[0m: index 1 is out of bounds for axis 0 with size 1"
     ]
    }
   ],
   "source": [
    "a = psi1_counter(ran_vpos,ran_vn,ran_v,ran_vsig,ran_alpha,ran_vamp,\n",
    "                             s_edges,n_cells,indices_cells_ran,L_cell_pair,L_cells)"
   ]
  },
  {
   "cell_type": "code",
   "execution_count": 50,
   "metadata": {},
   "outputs": [
    {
     "data": {
      "text/plain": [
       "array([      0.        ,       0.        ,       0.        ,\n",
       "             0.        ,       0.        ,  -77712.29192056,\n",
       "             0.        ,       0.        ,       0.        ,\n",
       "             0.        , -222170.36631575,       0.        ,\n",
       "             0.        ,       0.        ,       0.        ,\n",
       "             0.        ,       0.        ,  183765.09192653,\n",
       "             0.        ])"
      ]
     },
     "execution_count": 50,
     "metadata": {},
     "output_type": "execute_result"
    }
   ],
   "source": [
    "a[0]"
   ]
  },
  {
   "cell_type": "code",
   "execution_count": 58,
   "metadata": {},
   "outputs": [],
   "source": [
    "x = np.zeros((2,))"
   ]
  },
  {
   "cell_type": "code",
   "execution_count": 59,
   "metadata": {},
   "outputs": [
    {
     "name": "stdout",
     "output_type": "stream",
     "text": [
      "(2,)\n"
     ]
    }
   ],
   "source": [
    "print(x.shape)"
   ]
  },
  {
   "cell_type": "code",
   "execution_count": 63,
   "metadata": {},
   "outputs": [
    {
     "ename": "IndexError",
     "evalue": "too many indices for array: array is 1-dimensional, but 2 were indexed",
     "output_type": "error",
     "traceback": [
      "\u001b[0;31m---------------------------------------------------------------------------\u001b[0m",
      "\u001b[0;31mIndexError\u001b[0m                                Traceback (most recent call last)",
      "Cell \u001b[0;32mIn[63], line 1\u001b[0m\n\u001b[0;32m----> 1\u001b[0m \u001b[39mprint\u001b[39m(x[\u001b[39m1\u001b[39;49m,\u001b[39m1\u001b[39;49m])\n",
      "\u001b[0;31mIndexError\u001b[0m: too many indices for array: array is 1-dimensional, but 2 were indexed"
     ]
    }
   ],
   "source": [
    "print(x[1,1])"
   ]
  },
  {
   "cell_type": "code",
   "execution_count": null,
   "metadata": {},
   "outputs": [],
   "source": []
  }
 ],
 "metadata": {
  "kernelspec": {
   "display_name": "Python 3",
   "language": "python",
   "name": "python3"
  },
  "language_info": {
   "codemirror_mode": {
    "name": "ipython",
    "version": 3
   },
   "file_extension": ".py",
   "mimetype": "text/x-python",
   "name": "python",
   "nbconvert_exporter": "python",
   "pygments_lexer": "ipython3",
   "version": "3.8.12"
  },
  "orig_nbformat": 4
 },
 "nbformat": 4,
 "nbformat_minor": 2
}
