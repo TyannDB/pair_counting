{
 "cells": [
  {
   "cell_type": "code",
   "execution_count": 1,
   "metadata": {},
   "outputs": [],
   "source": [
    "import numpy as np\n",
    "import numba as nb\n",
    "import twopoint_counter as tpc\n",
    "from matplotlib import pyplot as plt\n",
    "from numba import njit, prange\n",
    "import math"
   ]
  },
  {
   "cell_type": "code",
   "execution_count": 2,
   "metadata": {},
   "outputs": [],
   "source": [
    "### PV catalog\n",
    "NPv = int(100000)\n",
    "z = np.random.rand(NPv)*0.10\n",
    "pos = np.random.random((NPv,3)) * 2000 -1000\n",
    "v = np.random.randn(NPv)*400\n",
    "\n",
    "dat_vpos = pos[np.random.choice(range(pos.shape[0]), size=100, replace=False)]\n",
    "ran_vpos = pos[np.random.choice(range(pos.shape[0]), size=500, replace=False)]\n",
    "\n",
    "dat_v = np.random.choice(v,100)\n",
    "ran_v = np.random.choice(v,500)\n",
    "\n",
    "dat_vn = np.ones(100)*1e-5\n",
    "ran_vn = np.ones(500)*1e-5\n",
    "\n",
    "dat_alpha = np.ones(100)\n",
    "ran_alpha = np.ones(500)\n",
    "dat_vsig = np.zeros(100)\n",
    "ran_vsig = np.zeros(500)\n",
    "dat_vamp = ran_vamp = 100000"
   ]
  },
  {
   "cell_type": "code",
   "execution_count": 3,
   "metadata": {},
   "outputs": [],
   "source": [
    "### Den catalog\n",
    "Ngal = int(100000)\n",
    "pos = np.random.random((Ngal,3)) * 2000 -1000\n",
    "\n",
    "dat_dpos = pos[np.random.choice(range(pos.shape[0]), size=100, replace=False)]\n",
    "ran_dpos = pos[np.random.choice(range(pos.shape[0]), size=500, replace=False)]\n",
    "\n",
    "dat_dn = np.ones(100)*1e-5\n",
    "ran_dn = np.ones(500)*1e-5\n",
    "dat_damp = ran_damp = 100000"
   ]
  },
  {
   "cell_type": "code",
   "execution_count": 4,
   "metadata": {},
   "outputs": [],
   "source": [
    "s_edges=np.linspace(10,120,20)\n",
    "bins_s = (np.array(s_edges[1:]) + np.array(s_edges[:-1])) / 2\n",
    "mu_edges = np.linspace(-1,1,100)\n",
    "bins_mu = (np.array(mu_edges[1:]) + np.array(mu_edges[:-1])) / 2\n",
    "edges = (s_edges,mu_edges)"
   ]
  },
  {
   "cell_type": "code",
   "execution_count": 15,
   "metadata": {},
   "outputs": [],
   "source": [
    "engine = tpc.CorrelationFunctionPV(s_edges,\n",
    "                                   dat_vpos,dat_vn,dat_v,dat_vsig,dat_alpha,dat_vamp,\n",
    "                                   ran_vpos,ran_vn,ran_v,ran_vsig,ran_alpha,ran_vamp\n",
    "                                   )\n"
   ]
  },
  {
   "cell_type": "code",
   "execution_count": 26,
   "metadata": {},
   "outputs": [
    {
     "data": {
      "text/plain": [
       "array([nan, nan, nan,  0., nan,  0.,  0., nan,  0.,  0.,  0.,  0.,  0.,\n",
       "        0.,  0.,  0.,  0.,  0.,  0.])"
      ]
     },
     "execution_count": 26,
     "metadata": {},
     "output_type": "execute_result"
    }
   ],
   "source": [
    "engine.DD(mode='psi1')\n",
    "engine.DD(mode='psi2')\n",
    "engine.RR(mode='psi1')\n",
    "engine.RR(mode='psi2')\n",
    "engine.psi(mode='psi1')\n",
    "engine.psi(mode='psi2')"
   ]
  },
  {
   "cell_type": "code",
   "execution_count": 5,
   "metadata": {},
   "outputs": [
    {
     "name": "stderr",
     "output_type": "stream",
     "text": [
      "OMP: Info #276: omp_set_nested routine deprecated, please use omp_set_max_active_levels instead.\n"
     ]
    }
   ],
   "source": [
    "engine = tpc.CorrelationFunctionPVD(edges,\n",
    "                                   dat_vpos,dat_vn,dat_v,dat_vsig,dat_alpha,dat_vamp,\n",
    "                                   dat_dpos,dat_dn,dat_damp,\n",
    "                                   ran_vpos,ran_vn,ran_v,ran_vsig,ran_alpha,ran_vamp,\n",
    "                                   ran_dpos,ran_dn,ran_damp\n",
    "                                   )"
   ]
  },
  {
   "cell_type": "code",
   "execution_count": 7,
   "metadata": {},
   "outputs": [
    {
     "name": "stderr",
     "output_type": "stream",
     "text": [
      "/renoir/aronica/SNIa/pair_counting/PairCounting/twopoint_counter.py:936: RuntimeWarning: divide by zero encountered in true_divide\n",
      "  psi3 = ((    RR[2]*RR[3]/DD[2]*DD[3])* DD[0]/RR[1]\n",
      "/renoir/aronica/SNIa/pair_counting/PairCounting/twopoint_counter.py:936: RuntimeWarning: invalid value encountered in true_divide\n",
      "  psi3 = ((    RR[2]*RR[3]/DD[2]*DD[3])* DD[0]/RR[1]\n",
      "/renoir/aronica/SNIa/pair_counting/PairCounting/twopoint_counter.py:937: RuntimeWarning: divide by zero encountered in true_divide\n",
      "  -2 * RR[2]/DD[2] * RD[0]/RR[1]\n",
      "/renoir/aronica/SNIa/pair_counting/PairCounting/twopoint_counter.py:937: RuntimeWarning: invalid value encountered in true_divide\n",
      "  -2 * RR[2]/DD[2] * RD[0]/RR[1]\n",
      "/renoir/aronica/SNIa/pair_counting/PairCounting/twopoint_counter.py:938: RuntimeWarning: divide by zero encountered in true_divide\n",
      "  -2 * RR[3]/DD[3] * DR[0]/RR[1]\n",
      "/renoir/aronica/SNIa/pair_counting/PairCounting/twopoint_counter.py:938: RuntimeWarning: invalid value encountered in true_divide\n",
      "  -2 * RR[3]/DD[3] * DR[0]/RR[1]\n",
      "/renoir/aronica/SNIa/pair_counting/PairCounting/twopoint_counter.py:939: RuntimeWarning: invalid value encountered in true_divide\n",
      "  + RR[0]/ RR[1])\n"
     ]
    },
    {
     "data": {
      "text/plain": [
       "array([[          nan,           nan,           nan, ...,           nan,\n",
       "                  nan,           nan],\n",
       "       [-543.91359554,           nan,           nan, ...,           nan,\n",
       "                  nan,           nan],\n",
       "       [          nan,           nan,           nan, ...,           nan,\n",
       "                  nan,           nan],\n",
       "       ...,\n",
       "       [          nan,           nan,           nan, ...,           nan,\n",
       "                  nan,  222.22200096],\n",
       "       [          nan, -364.80682677,           nan, ...,           nan,\n",
       "                  nan,           nan],\n",
       "       [          nan,           nan,  560.53998488, ...,  168.6480794 ,\n",
       "                  nan,           nan]])"
      ]
     },
     "execution_count": 7,
     "metadata": {},
     "output_type": "execute_result"
    }
   ],
   "source": [
    "engine.DD()\n",
    "engine.RD()\n",
    "engine.DR()\n",
    "engine.RR()\n",
    "engine.psi3()"
   ]
  }
 ],
 "metadata": {
  "kernelspec": {
   "display_name": "Python 3",
   "language": "python",
   "name": "python3"
  },
  "language_info": {
   "codemirror_mode": {
    "name": "ipython",
    "version": 3
   },
   "file_extension": ".py",
   "mimetype": "text/x-python",
   "name": "python",
   "nbconvert_exporter": "python",
   "pygments_lexer": "ipython3",
   "version": "3.8.12"
  },
  "orig_nbformat": 4
 },
 "nbformat": 4,
 "nbformat_minor": 2
}
